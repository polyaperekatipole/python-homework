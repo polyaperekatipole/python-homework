{
 "cells": [
  {
   "cell_type": "code",
   "execution_count": 3,
   "metadata": {},
   "outputs": [],
   "source": [
    "from string import punctuation\n",
    "\n",
    "def tokenize(s):\n",
    "    words=s.lower().strip().split()\n",
    "    twords = [word.strip(punctuation) for word in words]\n",
    "    return twords"
   ]
  },
  {
   "cell_type": "code",
   "execution_count": 4,
   "metadata": {},
   "outputs": [],
   "source": [
    "def gutenberg_file_wc(s):\n",
    "    alice=open('alice.txt').read()\n",
    "    a=alice.find('*** START OF THIS PROJECT GUTENBERG EBOOK') \n",
    "    z=alice.find('*** END OF THIS PROJECT GUTENBERG EBOOK') \n",
    "    alice_new=alice[a:z]\n",
    "    alice_tokens=tokenize(alice_new)\n",
    "    gutenberg_file_wc={x:alice_tokens.count(x) for x in alice_tokens}\n",
    "    return gutenberg_file_wc"
   ]
  },
  {
   "cell_type": "code",
   "execution_count": 6,
   "metadata": {},
   "outputs": [
    {
     "name": "stdout",
     "output_type": "stream",
     "text": [
      "{'st': 29, 'pr': 20, 'by': 2, 'sp': 9, 'pgd': 1, 'tw': 4, 'sl': 6, 'pl': 16, 'tr': 13, 'cl': 6, 'fl': 11, 'str': 4, 'fr': 11, 'gr': 17, 'dr': 13, 'll': 7, 'my': 1, 'dry': 1, 'try': 2, 'gl': 5, 'sm': 6, 'br': 15, 'thr': 6, 'cr': 18, 'cry': 2, 'sc': 1, 'ly': 1, 'mys': 1, 'spl': 3, 'sk': 1, 'shr': 4, 'sw': 6, 'why': 1, 'spr': 1, 'sn': 4, 'scr': 5, 'sq': 1, 'sky': 2, 'bl': 6, 'shy': 1, 'fly': 2}\n",
      "41\n"
     ]
    },
    {
     "ename": "NameError",
     "evalue": "name 'clustersKeys' is not defined",
     "output_type": "error",
     "traceback": [
      "\u001b[0;31m---------------------------------------------------------------------------\u001b[0m",
      "\u001b[0;31mNameError\u001b[0m                                 Traceback (most recent call last)",
      "\u001b[0;32m<ipython-input-6-1cb6d2fa0991>\u001b[0m in \u001b[0;36m<module>\u001b[0;34m\u001b[0m\n\u001b[1;32m     23\u001b[0m \u001b[0;34m\u001b[0m\u001b[0m\n\u001b[1;32m     24\u001b[0m \u001b[0mclustersLeys\u001b[0m\u001b[0;34m=\u001b[0m\u001b[0mlist\u001b[0m\u001b[0;34m(\u001b[0m\u001b[0mclusters\u001b[0m\u001b[0;34m.\u001b[0m\u001b[0mkeys\u001b[0m\u001b[0;34m(\u001b[0m\u001b[0;34m)\u001b[0m\u001b[0;34m)\u001b[0m\u001b[0;34m\u001b[0m\u001b[0;34m\u001b[0m\u001b[0m\n\u001b[0;32m---> 25\u001b[0;31m \u001b[0mprint\u001b[0m\u001b[0;34m(\u001b[0m\u001b[0msorted\u001b[0m\u001b[0;34m(\u001b[0m\u001b[0mclustersKeys\u001b[0m\u001b[0;34m)\u001b[0m\u001b[0;34m)\u001b[0m\u001b[0;34m\u001b[0m\u001b[0;34m\u001b[0m\u001b[0m\n\u001b[0m",
      "\u001b[0;31mNameError\u001b[0m: name 'clustersKeys' is not defined"
     ]
    }
   ],
   "source": [
    "x={}\n",
    "x=gutenberg_file_wc('alice.txt')\n",
    "wordss=list(x.keys())\n",
    "wordst=' '.join(wordss)\n",
    "import re\n",
    "wordsineed=re.findall('\\\\b([bcdfghjklmnpqrstvwxyz][bcdfghjklmnpqrstvwxyz][bcdfghjklmnpqrstvwxyz]?)', wordst)\n",
    "\n",
    "clusters={}\n",
    "NB=['sh', 'th', 'gh', 'wh', 'ch', 'kn', 'wr', 'www', 'htt']\n",
    "for each in wordsineed:\n",
    "    if each not in NB:\n",
    "        if each in clusters:\n",
    "            clusters[each]+=1\n",
    "        else:\n",
    "            clusters[each]=1\n",
    "    else:\n",
    "        continue\n",
    "\n",
    "print(clusters)\n",
    "\n",
    "totalNumber=len(list(clusters.keys()))\n",
    "print(totalNumber)\n",
    "\n",
    "clustersLeys=list(clusters.keys())\n",
    "print(sorted(clustersKeys))"
   ]
  },
  {
   "cell_type": "code",
   "execution_count": null,
   "metadata": {},
   "outputs": [],
   "source": []
  }
 ],
 "metadata": {
  "kernelspec": {
   "display_name": "Python 3",
   "language": "python",
   "name": "python3"
  },
  "language_info": {
   "codemirror_mode": {
    "name": "ipython",
    "version": 3
   },
   "file_extension": ".py",
   "mimetype": "text/x-python",
   "name": "python",
   "nbconvert_exporter": "python",
   "pygments_lexer": "ipython3",
   "version": "3.6.7"
  }
 },
 "nbformat": 4,
 "nbformat_minor": 2
}
