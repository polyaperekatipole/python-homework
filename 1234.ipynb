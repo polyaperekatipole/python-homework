{
 "cells": [
  {
   "cell_type": "code",
   "execution_count": 2,
   "metadata": {},
   "outputs": [
    {
     "name": "stdout",
     "output_type": "stream",
     "text": [
      "['', 'mother', 'and', 'father', '']\n"
     ]
    }
   ],
   "source": [
    "from string import punctuation\n",
    "\n",
    "def tokenize(s):\n",
    "    words=s.lower().strip().split()\n",
    "    twords = [word.strip(punctuation) for word in words]\n",
    "    return twords\n",
    "\n",
    "print(tokenize('! mother and father !'))"
   ]
  },
  {
   "cell_type": "code",
   "execution_count": 3,
   "metadata": {},
   "outputs": [],
   "source": [
    "def gutenberg_file_wc(s):\n",
    "    alice=open('alice.txt').read()\n",
    "    a=alice.find('*** START OF THIS PROJECT GUTENBERG EBOOK') \n",
    "    z=alice.find('*** END OF THIS PROJECT GUTENBERG EBOOK') \n",
    "    alice_new=alice[a:z]\n",
    "    alice_tokens=tokenize(alice_new)\n",
    "    gutenberg_file_wc={x:alice_tokens.count(x) for x in alice_tokens}\n",
    "    return gutenberg_file_wc"
   ]
  },
  {
   "cell_type": "code",
   "execution_count": 4,
   "metadata": {},
   "outputs": [
    {
     "name": "stdout",
     "output_type": "stream",
     "text": [
      "{'abstain_VERB': {1731: 95}, 'abstained': {1520: 1}, 'abstentions.13': {1950: 3}, 'abstenue_NOUN': {1841: 1}, 'abstersion_ADP': {1815: 2}, 'abstinebat_X': {1755: 1}, 'abstinentes_X': {1798: 2}, 'abstinentiae_DET': {1803: 1}, 'abstinuere': {1726: 1}, 'abstraction3': {1847: 1}, 'abstractions.11': {1940: 2}, 'abstrahat': {1725: 1}, 'abstraits_VERB': {1879: 5}, 'abstrusen': {1892: 1}, 'abstulissent': {1827: 1}, 'absurd.14_ADP': {1905: 1}, 'abtsract': {1811: 2}, 'abuse.53_NOUN': {1946: 1}, 'abutere_VERB': {1767: 1}, 'abwälzen_X': {1918: 2}, 'abzuschreiben': {1804: 1}, 'abzustatten_NOUN': {1857: 1}, 'acac_NOUN': {1746: 1}, 'academies.4_NOUN': {1952: 1}, 'acanthopores_NOUN': {1862: 102}, 'acarne': {1822: 2}, 'acaulay_NOUN': {1848: 1}, 'acccompanying_VERB': {1803: 1}, 'accelerandi_VERB': {1910: 2}, 'acceleratively': {1791: 1}, 'accentual_ADJ': {1754: 2}, 'accentual_VERB': {1842: 3}, 'accept.63': {1885: 7}, 'acceptance.13': {1903: 2}, 'acceptance.1_VERB': {1877: 2}, 'acceptando': {1812: 3}, 'accepted.25_NOUN': {1943: 2}, 'accepto_NOUN': {1727: 1}, 'accesorio_NOUN': {1812: 1}, 'accessio_ADP': {1803: 1}, 'accessories': {1515: 2}, 'acci_X': {1706: 1}, 'accidants_NOUN': {1832: 1}, 'accidente_': {1848: 1}, 'accipis_X': {1727: 1}, 'acclamatisation': {1954: 2}, 'accmnulated_VERB': {1903: 1}, 'accoidingto': {1706: 1}, 'accommodatethe': {1808: 1}, 'accompaniedbya': {1825: 1}, 'accompanyed_ADJ': {1679: 1}, 'accompanying1': {1807: 1}, 'accordina_NOUN': {1719: 1}, 'accordingly.82': {1886: 4}, 'accordingly.85_ADP': {1913: 1}, 'accordingly.94': {1920: 1}, 'accordoit_X': {1797: 2}, 'accormts_NOUN': {1866: 1}, 'accouchant_X': {1871: 3}, 'account.81_NOUN': {1886: 2}, 'accountants.6': {1840: 1}, 'accoutum6': {1809: 1}, 'accre_VERB': {1794: 1}, 'accreditation_DET': {1955: 1}, 'accrochages_X': {1927: 1}, 'accueillant_VERB': {1895: 1}, 'acculturalised': {1962: 1}, 'acculée_X': {1861: 1}, 'accumlates_NOUN': {1854: 1}, 'accummulation_NOUN': {1717: 1}, 'accuracy.15': {1874: 1}, 'accusat1on_NOUN': {1815: 2}, 'accuse': {1520: 3}, 'accused.32_NOUN': {1930: 1}, 'acedaemonians_NOUN': {1770: 1}, 'acedemics': {1801: 1}, 'acediae': {1834: 1}, 'acetaria': {1793: 2}, 'acetylacetonate_ADJ': {1927: 2}, 'acetylcholinebinding': {1975: 1}, 'acetylsn': {1979: 1}, 'aceus_NOUN': {1806: 1}, 'achatados_NOUN': {1887: 5}, 'achier_X': {1855: 1}, 'achoison_NOUN': {1813: 1}, 'achronological_ADJ': {1781: 1}, 'achttausend': {1929: 1}, 'acid.108': {1917: 2}, 'acid.44': {1918: 3}, 'acidcleaned': {1910: 1}, 'acidhematoxylin': {1915: 1}, 'acidized_ADJ': {1938: 1}, 'acidophil': {1896: 1}, 'acinte': {1917: 2}, 'acjds': {1758: 1}, 'acker_VERB': {1702: 1}, 'acknoweledge': {1799: 4}, 'acknowledgeable_NOUN': {1861: 1}, 'acmd_NOUN': {1809: 1}, 'acnve': {1815: 1}, 'acod': {1582: 1}, 'acollective': {1807: 1}, 'acombination': {1755: 1}, 'acomodation': {1823: 4}, 'acompanan': {1818: 1}, 'aconsejar_VERB': {1922: 2}, 'acorning_VERB': {1830: 1}, 'acoustio_NOUN': {1854: 1}, 'acquiescence.11': {1822: 2}, 'acquise': {1688: 1}, 'acquisitionism': {1914: 2}, 'acrecento': {1874: 1}, 'acria_NOUN': {1789: 1}, 'acrown_ADJ': {1746: 1}, 'act.101': {1892: 2}, 'act.50_ADP': {1914: 5}, 'actar': {1765: 1}, 'acticed': {1837: 1}, 'action.49_VERB': {1958: 2}, 'action.80': {1855: 1}, 'action>_NUM': {1977: 1}, 'actionListener_NUM': {1997: 43}, 'actionprocess': {1954: 2}, 'activemindedness_NOUN': {1894: 2}, 'activing_VERB': {1940: 1}, 'activitat_ADP': {1905: 1}, 'activities.129_NOUN': {1945: 1}, 'activities.204': {1939: 2}, 'activities25': {1938: 1}, 'activity.102_NOUN': {1943: 1}, 'activity.141': {1944: 1}, 'activity3_VERB': {1964: 1}, 'activity52_NOUN': {1932: 1}, 'actix': {1775: 1}, 'actois_DET': {1794: 1}, 'actoris_X': {1728: 3}, 'actors.15_NOUN': {1931: 1}, 'actresse': {1827: 1}, 'actuaL_NOUN': {1803: 1}, 'acusticus_PRON': {1890: 1}, 'acute.21': {1917: 5}, 'acuñado_X': {1912: 1}, 'acylate_ADJ': {1933: 1}, 'acá_X': {1750: 4}, \"ad'a_X\": {1852: 3}, 'adRP_NOUN': {1993: 69}, 'adaot': {1725: 1}, 'adaprable_ADJ': {1949: 1}, 'adaptableness': {1862: 1}, 'adaptación_NOUN': {1885: 1}, 'adaptat_DET': {1846: 1}, 'adaptea_NOUN': {1813: 1}, 'adaptory': {1938: 1}, 'adaras': {1713: 1}, 'aday_ADP': {1777: 1}, 'adbered': {1784: 1}, 'addRecipient': {1999: 2}, 'addea_DET': {1629: 1}, 'addictio': {1769: 1}, 'addidicit': {1726: 2}, 'addieted_VERB': {1800: 1}, 'addietro_NOUN': {1794: 1}, 'additionnelle_X': {1801: 2}, 'addrc': {1790: 1}, 'adelfas': {1875: 4}, 'adelphois': {1972: 2}, 'adenomas_NOUN': {1871: 6}, 'adenylations': {1971: 1}, 'adequtely_ADV': {1909: 1}, 'ader_ADJ': {1750: 1}, 'adfigit_X': {1753: 2}, 'adgang_X': {1893: 2}, 'adhamam_X': {1859: 2}, 'adhesion_NOUN': {1563: 1}, 'adhikaris_DET': {1910: 1}, 'adhocness_ADJ': {1972: 2}, 'adhored': {1818: 1}, 'adicillin': {1963: 4}, 'adience_NOUN': {1805: 1}, 'adimens': {1849: 1}, 'adina_ADJ': {1867: 1}, 'adipt': {1730: 1}, 'aditya': {1812: 1}, 'adivinado_X': {1861: 3}, 'adjacens_DET': {1809: 1}, 'adjections': {1658: 2}, 'adjoiniug': {1734: 1}, 'adjuc': {1928: 1}, 'adjunct_ADJ': {1701: 1}, 'adjustment.10': {1923: 2}, 'adjustments.14_NOUN': {1934: 1}, 'adjutantcy_NOUN': {1815: 1}, 'adjuvabit_X': {1748: 1}, 'admeasurer': {1808: 1}, 'admen_NOUN': {1630: 1}, 'admin@kippra.or.ke': {2000: 3}, 'administration.35_NOUN': {1841: 3}, 'administration.78': {1884: 1}, 'administratior': {1754: 1}, 'administrato_X': {1803: 3}, 'admirada': {1799: 1}, 'admiration.11': {1824: 1}, 'admit.31_VERB': {1889: 1}, 'admitted.48': {1888: 7}, 'admixtures_VERB': {1823: 2}, 'admonisht_VERB': {1667: 1}, 'admovens': {1581: 1}, 'admovent_NOUN': {1754: 1}, 'adnpt': {1810: 1}, 'adnuntiat_X': {1824: 2}, 'adolescentia_NOUN': {1738: 1}, 'adolphii': {1934: 2}, 'adonai_ADJ': {1804: 4}, 'adoptability': {1904: 3}, 'adopted.1_NOUN': {1813: 1}, 'adopted.3_VERB': {1825: 1}, 'adoption.22': {1910: 1}, 'adoption.23_NOUN': {1892: 1}, 'adoptmg_DET': {1806: 1}, 'adorad': {1799: 1}, 'adp_ADJ': {1801: 1}, 'adresata': {1962: 2}, 'adrian': {1753: 1}, 'adrip_DET': {1768: 1}, 'adrnired_VERB': {1698: 1}, 'adrsfa_DET': {1953: 1}, 'adsorbierter_X': {1929: 4}, 'adueniens_NOUN': {1897: 3}, 'aduentures_NOUN': {1579: 12}, \"aduis'd\": {1592: 1}, 'adulous_ADJ': {1849: 6}, 'adults.7_VERB': {1908: 1}, 'advaitist_ADJ': {1920: 1}, 'advancing_VERB': {1507: 2}, 'advaneo': {1827: 1}, 'advantagesof_ADP': {1685: 1}, 'adveneris': {1729: 1}, 'adventurestory': {1895: 1}, 'adventurousness_NOUN': {1752: 1}, 'adverb_ADP': {1864: 1}, 'adversity_ADJ': {1718: 1}, 'adviaing': {1830: 1}, 'advice.0': {1811: 1}, 'advised': {1520: 1}, 'adzes_VERB': {1784: 3}, 'aeA_ADP': {1958: 1}, 'aeathetic_ADJ': {1876: 1}, 'aediun_NOUN': {1515: 1}, 'aef_NUM': {1769: 1}, 'aegros_NOUN': {1807: 1}, 'aegrum_X': {1737: 4}, 'aegyptl_NOUN': {1923: 1}, 'aeis_NOUN': {1728: 1}, 'aempt_NOUN': {1877: 1}, 'aenaitive_ADJ': {1854: 1}, 'aenus': {1747: 1}, 'aeolosomatids_NOUN': {1962: 14}, 'aependent_ADJ': {1910: 1}, 'aepi_X': {1879: 1}, 'aequanimitatem_X': {1726: 2}, 'aerarii': {1745: 2}, 'aerea_NUM': {1765: 1}, 'aerocyanosis': {1915: 1}, 'aerohics': {1989: 1}, 'aerophare': {1945: 3}, 'aerospatiale_DET': {1971: 1}, 'aerotactic': {1898: 2}, 'aeruginosa1': {1943: 1}, 'aeruleus': {1802: 1}, 'aerw': {1682: 1}, 'aestheticexpressive_ADJ': {1964: 2}, 'aetata_DET': {1809: 1}, 'aeter_ADJ': {1737: 2}, 'aetioallobilianic_ADJ': {1937: 1}, 'afHuent': {1752: 1}, 'afaf_ADP': {1731: 1}, 'afastadas_X': {1913: 2}, 'affabilité': {1762: 1}, 'affactiva_NOUN': {1915: 1}, 'affair.68_NOUN': {1883: 3}, 'affair.81': {1898: 1}, 'affascinare_NOUN': {1865: 2}, \"affec'ed\": {1796: 1}, 'affermazioni_NOUN': {1861: 1}, 'affetto_NOUN': {1755: 1}, 'afficheurs': {1836: 2}, 'affiftans': {1858: 1}, 'affigunt': {1768: 1}, 'affiir_NOUN': {1750: 1}, 'affiirmed_VERB': {1835: 1}, 'affiliation': {1515: 2}, 'affirmation_NUM': {1806: 2}, 'affirmed.4': {1847: 2}, 'affluence.3': {1858: 1}, \"affo'd\": {1878: 1}, 'affrancare': {1898: 1}, 'affrontee_VERB': {1814: 2}, 'affuso_X': {1750: 1}, 'afhrme': {1572: 1}, 'afib_DET': {1811: 1}, 'afid_DET': {1631: 1}, 'afiigned_VERB': {1725: 1}, 'afiure': {1679: 1}, 'aflections': {1701: 1, 1806: 2}}\n"
     ]
    }
   ],
   "source": [
    "def googlebooks_count_by_year(filename):\n",
    "    d={}\n",
    "    fields=[]\n",
    "    for line in open('googlebooks.txt', 'r'):\n",
    "        line=line.strip()\n",
    "        line=line.split('\\t')\n",
    "        fields.append(line)\n",
    "    for item in fields:\n",
    "        if item[0] not in d.keys():\n",
    "            d[item[0]]={int(item[1]):int(item[2])}\n",
    "    else:\n",
    "        x=d[item[0]]\n",
    "        x[int(item[1])]=int(item[2])\n",
    "        return d\n",
    "print (googlebooks_count_by_year('googlebooks.txt'))"
   ]
  },
  {
   "cell_type": "code",
   "execution_count": 12,
   "metadata": {},
   "outputs": [
    {
     "name": "stdout",
     "output_type": "stream",
     "text": [
      "{'abstain_VERB': 95, 'abstained': 1, 'abstentions.13': 3, 'abstenue_NOUN': 1, 'abstersion_ADP': 2, 'abstinebat_X': 1, 'abstinentes_X': 2, 'abstinentiae_DET': 1, 'abstinuere': 1, 'abstraction3': 1, 'abstractions.11': 2, 'abstrahat': 1, 'abstraits_VERB': 5, 'abstrusen': 1, 'abstulissent': 1, 'absurd.14_ADP': 1, 'abtsract': 2, 'abuse.53_NOUN': 1, 'abutere_VERB': 1, 'abwälzen_X': 2, 'abzuschreiben': 1, 'abzustatten_NOUN': 1, 'acac_NOUN': 1, 'academies.4_NOUN': 1, 'acanthopores_NOUN': 102, 'acarne': 2, 'acaulay_NOUN': 1, 'acccompanying_VERB': 1, 'accelerandi_VERB': 2, 'acceleratively': 1, 'accentual_ADJ': 2, 'accentual_VERB': 3, 'accept.63': 7, 'acceptance.13': 2, 'acceptance.1_VERB': 2, 'acceptando': 3, 'accepted.25_NOUN': 2, 'accepto_NOUN': 1, 'accesorio_NOUN': 1, 'accessio_ADP': 1, 'accessories': 2, 'acci_X': 1, 'accidants_NOUN': 1, 'accidente_': 1, 'accipis_X': 1, 'acclamatisation': 2, 'accmnulated_VERB': 1, 'accoidingto': 1, 'accommodatethe': 1, 'accompaniedbya': 1, 'accompanyed_ADJ': 1, 'accompanying1': 1, 'accordina_NOUN': 1, 'accordingly.82': 4, 'accordingly.85_ADP': 1, 'accordingly.94': 1, 'accordoit_X': 2, 'accormts_NOUN': 1, 'accouchant_X': 3, 'account.81_NOUN': 2, 'accountants.6': 1, 'accoutum6': 1, 'accre_VERB': 1, 'accreditation_DET': 1, 'accrochages_X': 1, 'accueillant_VERB': 1, 'acculturalised': 1, 'acculée_X': 1, 'accumlates_NOUN': 1, 'accummulation_NOUN': 1, 'accuracy.15': 1, 'accusat1on_NOUN': 2, 'accuse': 3, 'accused.32_NOUN': 1, 'acedaemonians_NOUN': 1, 'acedemics': 1, 'acediae': 1, 'acetaria': 2, 'acetylacetonate_ADJ': 2, 'acetylcholinebinding': 1, 'acetylsn': 1, 'aceus_NOUN': 1, 'achatados_NOUN': 5, 'achier_X': 1, 'achoison_NOUN': 1, 'achronological_ADJ': 1, 'achttausend': 1, 'acid.108': 2, 'acid.44': 3, 'acidcleaned': 1, 'acidhematoxylin': 1, 'acidized_ADJ': 1, 'acidophil': 1, 'acinte': 2, 'acjds': 1, 'acker_VERB': 1, 'acknoweledge': 4, 'acknowledgeable_NOUN': 1, 'acmd_NOUN': 1, 'acnve': 1, 'acod': 1, 'acollective': 1, 'acombination': 1, 'acomodation': 4, 'acompanan': 1, 'aconsejar_VERB': 2, 'acorning_VERB': 1, 'acoustio_NOUN': 1, 'acquiescence.11': 2, 'acquise': 1, 'acquisitionism': 2, 'acrecento': 1, 'acria_NOUN': 1, 'acrown_ADJ': 1, 'act.101': 2, 'act.50_ADP': 5, 'actar': 1, 'acticed': 1, 'action.49_VERB': 2, 'action.80': 1, 'action>_NUM': 1, 'actionListener_NUM': 43, 'actionprocess': 2, 'activemindedness_NOUN': 2, 'activing_VERB': 1, 'activitat_ADP': 1, 'activities.129_NOUN': 1, 'activities.204': 2, 'activities25': 1, 'activity.102_NOUN': 1, 'activity.141': 1, 'activity3_VERB': 1, 'activity52_NOUN': 1, 'actix': 1, 'actois_DET': 1, 'actoris_X': 3, 'actors.15_NOUN': 1, 'actresse': 1, 'actuaL_NOUN': 1, 'acusticus_PRON': 1, 'acute.21': 5, 'acuñado_X': 1, 'acylate_ADJ': 1, 'acá_X': 4, \"ad'a_X\": 3, 'adRP_NOUN': 69, 'adaot': 1, 'adaprable_ADJ': 1, 'adaptableness': 1, 'adaptación_NOUN': 1, 'adaptat_DET': 1, 'adaptea_NOUN': 1, 'adaptory': 1, 'adaras': 1, 'aday_ADP': 1, 'adbered': 1, 'addRecipient': 2, 'addea_DET': 1, 'addictio': 1, 'addidicit': 2, 'addieted_VERB': 1, 'addietro_NOUN': 1, 'additionnelle_X': 2, 'addrc': 1, 'adelfas': 4, 'adelphois': 2, 'adenomas_NOUN': 6, 'adenylations': 1, 'adequtely_ADV': 1, 'ader_ADJ': 1, 'adfigit_X': 2, 'adgang_X': 2, 'adhamam_X': 2, 'adhesion_NOUN': 1, 'adhikaris_DET': 1, 'adhocness_ADJ': 2, 'adhored': 1, 'adicillin': 4, 'adience_NOUN': 1, 'adimens': 1, 'adina_ADJ': 1, 'adipt': 1, 'aditya': 1, 'adivinado_X': 3, 'adjacens_DET': 1, 'adjections': 2, 'adjoiniug': 1, 'adjuc': 1, 'adjunct_ADJ': 1, 'adjustment.10': 2, 'adjustments.14_NOUN': 1, 'adjutantcy_NOUN': 1, 'adjuvabit_X': 1, 'admeasurer': 1, 'admen_NOUN': 1, 'admin@kippra.or.ke': 3, 'administration.35_NOUN': 3, 'administration.78': 1, 'administratior': 1, 'administrato_X': 3, 'admirada': 1, 'admiration.11': 1, 'admit.31_VERB': 1, 'admitted.48': 7, 'admixtures_VERB': 2, 'admonisht_VERB': 1, 'admovens': 1, 'admovent_NOUN': 1, 'adnpt': 1, 'adnuntiat_X': 2, 'adolescentia_NOUN': 1, 'adolphii': 2, 'adonai_ADJ': 4, 'adoptability': 3, 'adopted.1_NOUN': 1, 'adopted.3_VERB': 1, 'adoption.22': 1, 'adoption.23_NOUN': 1, 'adoptmg_DET': 1, 'adorad': 1, 'adp_ADJ': 1, 'adresata': 2, 'adrian': 1, 'adrip_DET': 1, 'adrnired_VERB': 1, 'adrsfa_DET': 1, 'adsorbierter_X': 4, 'adueniens_NOUN': 3, 'aduentures_NOUN': 12, \"aduis'd\": 1, 'adulous_ADJ': 6, 'adults.7_VERB': 1, 'advaitist_ADJ': 1, 'advancing_VERB': 2, 'advaneo': 1, 'advantagesof_ADP': 1, 'adveneris': 1, 'adventurestory': 1, 'adventurousness_NOUN': 1, 'adverb_ADP': 1, 'adversity_ADJ': 1, 'adviaing': 1, 'advice.0': 1, 'advised': 1, 'adzes_VERB': 3, 'aeA_ADP': 1, 'aeathetic_ADJ': 1, 'aediun_NOUN': 1, 'aef_NUM': 1, 'aegros_NOUN': 1, 'aegrum_X': 4, 'aegyptl_NOUN': 1, 'aeis_NOUN': 1, 'aempt_NOUN': 1, 'aenaitive_ADJ': 1, 'aenus': 1, 'aeolosomatids_NOUN': 14, 'aependent_ADJ': 1, 'aepi_X': 1, 'aequanimitatem_X': 2, 'aerarii': 2, 'aerea_NUM': 1, 'aerocyanosis': 1, 'aerohics': 1, 'aerophare': 3, 'aerospatiale_DET': 1, 'aerotactic': 2, 'aeruginosa1': 1, 'aeruleus': 1, 'aerw': 1, 'aestheticexpressive_ADJ': 2, 'aetata_DET': 1, 'aeter_ADJ': 2, 'aetioallobilianic_ADJ': 1, 'afHuent': 1, 'afaf_ADP': 1, 'afastadas_X': 2, 'affabilité': 1, 'affactiva_NOUN': 1, 'affair.68_NOUN': 3, 'affair.81': 1, 'affascinare_NOUN': 2, \"affec'ed\": 1, 'affermazioni_NOUN': 1, 'affetto_NOUN': 1, 'afficheurs': 2, 'affiftans': 1, 'affigunt': 1, 'affiir_NOUN': 1, 'affiirmed_VERB': 1, 'affiliation': 2, 'affirmation_NUM': 2, 'affirmed.4': 2, 'affluence.3': 1, \"affo'd\": 1, 'affrancare': 1, 'affrontee_VERB': 2, 'affuso_X': 1, 'afhrme': 1, 'afib_DET': 1, 'afid_DET': 1, 'afiigned_VERB': 1, 'afiure': 1, 'aflections': 3}\n"
     ]
    }
   ],
   "source": [
    "def googlebooks_year_collapse(d):\n",
    "    add = {key:sum(year.values()) for key, year in d.items()}\n",
    "    return add\n",
    "print(googlebooks_year_collapse(googlebooks_count_by_year('googlebooks.txt')))"
   ]
  }
 ],
 "metadata": {
  "kernelspec": {
   "display_name": "Python 3",
   "language": "python",
   "name": "python3"
  },
  "language_info": {
   "codemirror_mode": {
    "name": "ipython",
    "version": 3
   },
   "file_extension": ".py",
   "mimetype": "text/x-python",
   "name": "python",
   "nbconvert_exporter": "python",
   "pygments_lexer": "ipython3",
   "version": "3.6.7"
  }
 },
 "nbformat": 4,
 "nbformat_minor": 2
}
